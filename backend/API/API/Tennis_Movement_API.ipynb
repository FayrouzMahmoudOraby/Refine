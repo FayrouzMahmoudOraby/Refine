{
  "cells": [
    {
      "cell_type": "code",
      "execution_count": 1,
      "metadata": {
        "colab": {
          "base_uri": "https://localhost:8080/"
        },
        "id": "ettdQYMfyE1P",
        "outputId": "317d6fd2-8d2b-4738-c10b-6ccba3b5fe25"
      },
      "outputs": [
        {
          "name": "stdout",
          "output_type": "stream",
          "text": [
            "Requirement already satisfied: fastapi in c:\\users\\marwa\\anaconda3\\lib\\site-packages (0.115.12)\n",
            "Requirement already satisfied: uvicorn in c:\\users\\marwa\\anaconda3\\lib\\site-packages (0.34.2)\n",
            "Requirement already satisfied: nest_asyncio in c:\\users\\marwa\\anaconda3\\lib\\site-packages (1.5.5)\n",
            "Requirement already satisfied: pyngrok in c:\\users\\marwa\\anaconda3\\lib\\site-packages (7.2.4)\n",
            "Requirement already satisfied: opencv-python in c:\\users\\marwa\\anaconda3\\lib\\site-packages (4.10.0.84)\n",
            "Requirement already satisfied: onnxruntime in c:\\users\\marwa\\anaconda3\\lib\\site-packages (1.19.2)\n",
            "Requirement already satisfied: tensorflow in c:\\users\\marwa\\anaconda3\\lib\\site-packages (2.18.0)\n",
            "Requirement already satisfied: starlette<0.47.0,>=0.40.0 in c:\\users\\marwa\\anaconda3\\lib\\site-packages (from fastapi) (0.46.2)\n",
            "Requirement already satisfied: pydantic!=1.8,!=1.8.1,!=2.0.0,!=2.0.1,!=2.1.0,<3.0.0,>=1.7.4 in c:\\users\\marwa\\anaconda3\\lib\\site-packages (from fastapi) (2.10.6)\n",
            "Requirement already satisfied: typing-extensions>=4.8.0 in c:\\users\\marwa\\anaconda3\\lib\\site-packages (from fastapi) (4.12.2)\n",
            "Requirement already satisfied: click>=7.0 in c:\\users\\marwa\\anaconda3\\lib\\site-packages (from uvicorn) (8.0.4)\n",
            "Requirement already satisfied: h11>=0.8 in c:\\users\\marwa\\anaconda3\\lib\\site-packages (from uvicorn) (0.14.0)\n",
            "Requirement already satisfied: PyYAML>=5.1 in c:\\users\\marwa\\anaconda3\\lib\\site-packages (from pyngrok) (5.1)\n",
            "Requirement already satisfied: numpy>=1.17.0 in c:\\users\\marwa\\anaconda3\\lib\\site-packages (from opencv-python) (1.26.4)\n",
            "Requirement already satisfied: coloredlogs in c:\\users\\marwa\\anaconda3\\lib\\site-packages (from onnxruntime) (15.0.1)\n",
            "Requirement already satisfied: flatbuffers in c:\\users\\marwa\\anaconda3\\lib\\site-packages (from onnxruntime) (24.3.25)\n",
            "Requirement already satisfied: packaging in c:\\users\\marwa\\anaconda3\\lib\\site-packages (from onnxruntime) (21.3)\n",
            "Requirement already satisfied: protobuf in c:\\users\\marwa\\anaconda3\\lib\\site-packages (from onnxruntime) (5.29.3)\n",
            "Requirement already satisfied: sympy in c:\\users\\marwa\\anaconda3\\lib\\site-packages (from onnxruntime) (1.13.1)\n",
            "Requirement already satisfied: tensorflow-intel==2.18.0 in c:\\users\\marwa\\anaconda3\\lib\\site-packages (from tensorflow) (2.18.0)\n",
            "Requirement already satisfied: absl-py>=1.0.0 in c:\\users\\marwa\\anaconda3\\lib\\site-packages (from tensorflow-intel==2.18.0->tensorflow) (2.1.0)\n",
            "Requirement already satisfied: astunparse>=1.6.0 in c:\\users\\marwa\\anaconda3\\lib\\site-packages (from tensorflow-intel==2.18.0->tensorflow) (1.6.3)\n",
            "Requirement already satisfied: gast!=0.5.0,!=0.5.1,!=0.5.2,>=0.2.1 in c:\\users\\marwa\\anaconda3\\lib\\site-packages (from tensorflow-intel==2.18.0->tensorflow) (0.4.0)\n",
            "Requirement already satisfied: google-pasta>=0.1.1 in c:\\users\\marwa\\anaconda3\\lib\\site-packages (from tensorflow-intel==2.18.0->tensorflow) (0.2.0)\n",
            "Requirement already satisfied: libclang>=13.0.0 in c:\\users\\marwa\\anaconda3\\lib\\site-packages (from tensorflow-intel==2.18.0->tensorflow) (18.1.1)\n",
            "Requirement already satisfied: opt-einsum>=2.3.2 in c:\\users\\marwa\\anaconda3\\lib\\site-packages (from tensorflow-intel==2.18.0->tensorflow) (3.3.0)\n",
            "Requirement already satisfied: requests<3,>=2.21.0 in c:\\users\\marwa\\anaconda3\\lib\\site-packages (from tensorflow-intel==2.18.0->tensorflow) (2.27.1)\n",
            "Requirement already satisfied: setuptools in c:\\users\\marwa\\anaconda3\\lib\\site-packages (from tensorflow-intel==2.18.0->tensorflow) (70.0.0)\n",
            "Requirement already satisfied: six>=1.12.0 in c:\\users\\marwa\\anaconda3\\lib\\site-packages (from tensorflow-intel==2.18.0->tensorflow) (1.16.0)\n",
            "Requirement already satisfied: termcolor>=1.1.0 in c:\\users\\marwa\\anaconda3\\lib\\site-packages (from tensorflow-intel==2.18.0->tensorflow) (2.4.0)\n",
            "Requirement already satisfied: wrapt>=1.11.0 in c:\\users\\marwa\\anaconda3\\lib\\site-packages (from tensorflow-intel==2.18.0->tensorflow) (1.12.1)\n",
            "Requirement already satisfied: grpcio<2.0,>=1.24.3 in c:\\users\\marwa\\anaconda3\\lib\\site-packages (from tensorflow-intel==2.18.0->tensorflow) (1.70.0)\n",
            "Requirement already satisfied: tensorboard<2.19,>=2.18 in c:\\users\\marwa\\anaconda3\\lib\\site-packages (from tensorflow-intel==2.18.0->tensorflow) (2.18.0)\n",
            "Requirement already satisfied: keras>=3.5.0 in c:\\users\\marwa\\anaconda3\\lib\\site-packages (from tensorflow-intel==2.18.0->tensorflow) (3.7.0)\n",
            "Requirement already satisfied: h5py>=3.11.0 in c:\\users\\marwa\\anaconda3\\lib\\site-packages (from tensorflow-intel==2.18.0->tensorflow) (3.11.0)\n",
            "Requirement already satisfied: ml-dtypes<0.5.0,>=0.4.0 in c:\\users\\marwa\\anaconda3\\lib\\site-packages (from tensorflow-intel==2.18.0->tensorflow) (0.4.1)\n",
            "Requirement already satisfied: tensorflow-io-gcs-filesystem>=0.23.1 in c:\\users\\marwa\\anaconda3\\lib\\site-packages (from tensorflow-intel==2.18.0->tensorflow) (0.31.0)\n",
            "Requirement already satisfied: colorama in c:\\users\\marwa\\anaconda3\\lib\\site-packages (from click>=7.0->uvicorn) (0.4.4)\n",
            "Requirement already satisfied: annotated-types>=0.6.0 in c:\\users\\marwa\\anaconda3\\lib\\site-packages (from pydantic!=1.8,!=1.8.1,!=2.0.0,!=2.0.1,!=2.1.0,<3.0.0,>=1.7.4->fastapi) (0.7.0)\n",
            "Requirement already satisfied: pydantic-core==2.27.2 in c:\\users\\marwa\\anaconda3\\lib\\site-packages (from pydantic!=1.8,!=1.8.1,!=2.0.0,!=2.0.1,!=2.1.0,<3.0.0,>=1.7.4->fastapi) (2.27.2)\n",
            "Requirement already satisfied: anyio<5,>=3.6.2 in c:\\users\\marwa\\anaconda3\\lib\\site-packages (from starlette<0.47.0,>=0.40.0->fastapi) (4.9.0)\n",
            "Requirement already satisfied: humanfriendly>=9.1 in c:\\users\\marwa\\anaconda3\\lib\\site-packages (from coloredlogs->onnxruntime) (10.0)\n",
            "Requirement already satisfied: pyparsing!=3.0.5,>=2.0.2 in c:\\users\\marwa\\anaconda3\\lib\\site-packages (from packaging->onnxruntime) (3.0.4)\n",
            "Requirement already satisfied: mpmath<1.4,>=1.1.0 in c:\\users\\marwa\\anaconda3\\lib\\site-packages (from sympy->onnxruntime) (1.2.1)\n",
            "Requirement already satisfied: exceptiongroup>=1.0.2 in c:\\users\\marwa\\anaconda3\\lib\\site-packages (from anyio<5,>=3.6.2->starlette<0.47.0,>=0.40.0->fastapi) (1.1.2)\n",
            "Requirement already satisfied: idna>=2.8 in c:\\users\\marwa\\anaconda3\\lib\\site-packages (from anyio<5,>=3.6.2->starlette<0.47.0,>=0.40.0->fastapi) (3.3)\n",
            "Requirement already satisfied: sniffio>=1.1 in c:\\users\\marwa\\anaconda3\\lib\\site-packages (from anyio<5,>=3.6.2->starlette<0.47.0,>=0.40.0->fastapi) (1.2.0)\n",
            "Requirement already satisfied: wheel<1.0,>=0.23.0 in c:\\users\\marwa\\anaconda3\\lib\\site-packages (from astunparse>=1.6.0->tensorflow-intel==2.18.0->tensorflow) (0.37.1)\n",
            "Requirement already satisfied: pyreadline3 in c:\\users\\marwa\\anaconda3\\lib\\site-packages (from humanfriendly>=9.1->coloredlogs->onnxruntime) (3.5.4)\n",
            "Requirement already satisfied: rich in c:\\users\\marwa\\anaconda3\\lib\\site-packages (from keras>=3.5.0->tensorflow-intel==2.18.0->tensorflow) (13.7.1)\n",
            "Requirement already satisfied: namex in c:\\users\\marwa\\anaconda3\\lib\\site-packages (from keras>=3.5.0->tensorflow-intel==2.18.0->tensorflow) (0.0.8)\n",
            "Requirement already satisfied: optree in c:\\users\\marwa\\anaconda3\\lib\\site-packages (from keras>=3.5.0->tensorflow-intel==2.18.0->tensorflow) (0.11.0)\n",
            "Requirement already satisfied: urllib3<1.27,>=1.21.1 in c:\\users\\marwa\\anaconda3\\lib\\site-packages (from requests<3,>=2.21.0->tensorflow-intel==2.18.0->tensorflow) (1.26.9)\n",
            "Requirement already satisfied: certifi>=2017.4.17 in c:\\users\\marwa\\anaconda3\\lib\\site-packages (from requests<3,>=2.21.0->tensorflow-intel==2.18.0->tensorflow) (2021.10.8)\n",
            "Requirement already satisfied: charset-normalizer~=2.0.0 in c:\\users\\marwa\\anaconda3\\lib\\site-packages (from requests<3,>=2.21.0->tensorflow-intel==2.18.0->tensorflow) (2.0.4)\n",
            "Requirement already satisfied: markdown>=2.6.8 in c:\\users\\marwa\\anaconda3\\lib\\site-packages (from tensorboard<2.19,>=2.18->tensorflow-intel==2.18.0->tensorflow) (3.3.4)\n",
            "Requirement already satisfied: tensorboard-data-server<0.8.0,>=0.7.0 in c:\\users\\marwa\\anaconda3\\lib\\site-packages (from tensorboard<2.19,>=2.18->tensorflow-intel==2.18.0->tensorflow) (0.7.2)\n",
            "Requirement already satisfied: werkzeug>=1.0.1 in c:\\users\\marwa\\anaconda3\\lib\\site-packages (from tensorboard<2.19,>=2.18->tensorflow-intel==2.18.0->tensorflow) (2.0.3)\n",
            "Requirement already satisfied: markdown-it-py>=2.2.0 in c:\\users\\marwa\\anaconda3\\lib\\site-packages (from rich->keras>=3.5.0->tensorflow-intel==2.18.0->tensorflow) (3.0.0)\n",
            "Requirement already satisfied: pygments<3.0.0,>=2.13.0 in c:\\users\\marwa\\anaconda3\\lib\\site-packages (from rich->keras>=3.5.0->tensorflow-intel==2.18.0->tensorflow) (2.17.2)\n",
            "Requirement already satisfied: mdurl~=0.1 in c:\\users\\marwa\\anaconda3\\lib\\site-packages (from markdown-it-py>=2.2.0->rich->keras>=3.5.0->tensorflow-intel==2.18.0->tensorflow) (0.1.2)\n"
          ]
        },
        {
          "name": "stderr",
          "output_type": "stream",
          "text": [
            "\n",
            "[notice] A new release of pip is available: 24.3.1 -> 25.0.1\n",
            "[notice] To update, run: python.exe -m pip install --upgrade pip\n"
          ]
        },
        {
          "name": "stdout",
          "output_type": "stream",
          "text": [
            "Requirement already satisfied: python-multipart in c:\\users\\marwa\\anaconda3\\lib\\site-packages (0.0.20)\n"
          ]
        },
        {
          "name": "stderr",
          "output_type": "stream",
          "text": [
            "\n",
            "[notice] A new release of pip is available: 24.3.1 -> 25.0.1\n",
            "[notice] To update, run: python.exe -m pip install --upgrade pip\n"
          ]
        },
        {
          "name": "stdout",
          "output_type": "stream",
          "text": [
            "Authtoken saved to configuration file: C:\\Users\\marwa\\AppData\\Local/ngrok/ngrok.yml\n"
          ]
        }
      ],
      "source": [
        "!pip install fastapi uvicorn nest_asyncio pyngrok opencv-python onnxruntime tensorflow\n",
        "!pip install python-multipart\n",
        "!ngrok config add-authtoken 2w632UmskfhkiCHNqk8koimwg08_89pfMfZsEGcJj2q56zHkD"
      ]
    },
    {
      "cell_type": "code",
      "execution_count": 2,
      "metadata": {
        "id": "bohpHKK8yTkG"
      },
      "outputs": [],
      "source": [
        "import cv2\n",
        "import numpy as np\n",
        "import os\n",
        "import json\n",
        "import shutil\n",
        "from fastapi import FastAPI, UploadFile\n",
        "from fastapi.responses import FileResponse, JSONResponse\n",
        "from tensorflow.keras.applications import InceptionV3\n",
        "from tensorflow.keras.applications.inception_v3 import preprocess_input\n",
        "from tensorflow.keras.models import load_model\n",
        "from tensorflow.keras.preprocessing.image import img_to_array\n",
        "import onnxruntime as ort\n",
        "import nest_asyncio\n",
        "from pyngrok import ngrok\n",
        "import uvicorn"
      ]
    },
    {
      "cell_type": "code",
      "execution_count": 3,
      "metadata": {
        "colab": {
          "base_uri": "https://localhost:8080/"
        },
        "id": "7TfYFkeTfW_j",
        "outputId": "eb9ccfe2-4053-4d9c-eef2-c05871286479"
      },
      "outputs": [
        {
          "name": "stderr",
          "output_type": "stream",
          "text": [
            "WARNING:absl:Compiled the loaded model, but the compiled metrics have yet to be built. `model.compile_metrics` will be empty until you train or evaluate the model.\n"
          ]
        }
      ],
      "source": [
        "app = FastAPI()\n",
        "\n",
        "# Load Models\n",
        "feature_extractor = InceptionV3(weights='imagenet', include_top=False, pooling='avg')\n",
        "action_model = load_model('tennis_action_model.h5')\n",
        "movenet_session = ort.InferenceSession('movenet_int8.onnx')"
      ]
    },
    {
      "cell_type": "code",
      "execution_count": 4,
      "metadata": {
        "id": "27OOUW8lfZCt"
      },
      "outputs": [],
      "source": [
        "SEQUENCE_LENGTH = 10\n",
        "IMG_SIZE = (299, 299)\n",
        "\n",
        "labels = [\n",
        "    'backhand', 'backhand2hands', 'backhand_slice', 'backhand_volley',\n",
        "    'flat_service', 'forehand_flat', 'forehand_openstands', 'forehand_slice',\n",
        "    'forehand_volley', 'kick_service', 'slice_service', 'smash'\n",
        "]\n"
      ]
    },
    {
      "cell_type": "code",
      "execution_count": 5,
      "metadata": {
        "id": "nVyHpTB1fkqu"
      },
      "outputs": [],
      "source": [
        "def extract_frames(video_file, max_frames=SEQUENCE_LENGTH):\n",
        "    cap = cv2.VideoCapture(video_file)\n",
        "    total_frames = int(cap.get(cv2.CAP_PROP_FRAME_COUNT))\n",
        "    step = max(1, total_frames // max_frames)\n",
        "    frames = []\n",
        "\n",
        "    for i in range(0, total_frames, step):\n",
        "        cap.set(cv2.CAP_PROP_POS_FRAMES, i)\n",
        "        ret, frame = cap.read()\n",
        "        if not ret:\n",
        "            break\n",
        "        frame = cv2.resize(frame, IMG_SIZE)\n",
        "        frame = preprocess_input(img_to_array(frame))\n",
        "        frames.append(frame)\n",
        "        if len(frames) == max_frames:\n",
        "            break\n",
        "    cap.release()\n",
        "    while len(frames) < max_frames:\n",
        "        frames.append(np.zeros_like(frames[0]))\n",
        "    return np.array(frames)\n",
        "\n",
        "def decode_prediction(pred):\n",
        "    return labels[np.argmax(pred)]\n",
        "\n",
        "def check_correctness(predicted_label):\n",
        "    return True  # Placeholder: All detected movements are correct\n",
        "\n",
        "def extract_joints_with_movenet(frame):\n",
        "    input_size = 192\n",
        "    resized_frame = cv2.resize(frame, (input_size, input_size))\n",
        "    input_image = np.expand_dims(resized_frame, axis=0).astype(np.float32) / 255.0  # Normalize\n",
        "\n",
        "    input_name = movenet_session.get_inputs()[0].name\n",
        "    output_name = movenet_session.get_outputs()[0].name\n",
        "\n",
        "    outputs = movenet_session.run([output_name], {input_name: input_image})\n",
        "    heatmaps = outputs[0][0]  # Shape: (48, 48, 17)\n",
        "\n",
        "    joint_names = [\n",
        "        \"nose\", \"left_eye\", \"right_eye\", \"left_ear\", \"right_ear\",\n",
        "        \"left_shoulder\", \"right_shoulder\", \"left_elbow\", \"right_elbow\",\n",
        "        \"left_wrist\", \"right_wrist\", \"left_hip\", \"right_hip\",\n",
        "        \"left_knee\", \"right_knee\", \"left_ankle\", \"right_ankle\"\n",
        "    ]\n",
        "\n",
        "    normalized_keypoints = []\n",
        "    for i in range(heatmaps.shape[-1]):\n",
        "        heatmap = heatmaps[:, :, i]\n",
        "        y, x = np.unravel_index(np.argmax(heatmap), heatmap.shape)\n",
        "\n",
        "        x_normalized = x / heatmaps.shape[1]\n",
        "        y_normalized = y / heatmaps.shape[0]\n",
        "\n",
        "        normalized_keypoints.append({\n",
        "            \"joint\": joint_names[i],\n",
        "            \"x\": float(round(x_normalized, 2)),\n",
        "            \"y\": float(round(y_normalized, 2))\n",
        "        })\n",
        "\n",
        "    return normalized_keypoints\n"
      ]
    },
    {
      "cell_type": "code",
      "execution_count": 6,
      "metadata": {
        "id": "L-gMlS4ifpSb"
      },
      "outputs": [],
      "source": [
        "import os\n",
        "from fastapi import FastAPI, UploadFile\n",
        "from fastapi.responses import FileResponse, JSONResponse\n",
        "import shutil\n",
        "import json\n",
        "import cv2\n",
        "import numpy as np\n",
        "\n",
        "app = FastAPI()\n",
        "\n",
        "# Define a writable directory for temporary files\n",
        "OUTPUT_DIR = \"./outputs\"\n",
        "os.makedirs(OUTPUT_DIR, exist_ok=True)  # Create the directory if it doesn't exist\n",
        "\n",
        "@app.post(\"/analyze_video/\")\n",
        "async def analyze_video(file: UploadFile):\n",
        "    try:\n",
        "        # Save the uploaded video to a temporary file\n",
        "        temp_video_path = os.path.join(OUTPUT_DIR, \"temp_video.mp4\")\n",
        "        with open(temp_video_path, \"wb\") as buffer:\n",
        "            shutil.copyfileobj(file.file, buffer)\n",
        "\n",
        "        # Extract frames from the video\n",
        "        frames = extract_frames(temp_video_path)  # Shape: (10, 299, 299, 3)\n",
        "\n",
        "        # Extract features from frames\n",
        "        sequence_features = []\n",
        "        for frame in frames:\n",
        "            frame_exp = np.expand_dims(frame, axis=0)\n",
        "            features = feature_extractor.predict(frame_exp, verbose=0)\n",
        "            sequence_features.append(features[0])\n",
        "\n",
        "        sequence_features = np.array(sequence_features)  # Shape: (10, 2048)\n",
        "        sequence_features = np.expand_dims(sequence_features, axis=0)  # Shape: (1, 10, 2048)\n",
        "\n",
        "        # Predict the action\n",
        "        prediction = action_model.predict(sequence_features)\n",
        "        predicted_label = decode_prediction(prediction)\n",
        "\n",
        "        # Extract joints from the last frame\n",
        "        raw_frame = cv2.VideoCapture(temp_video_path)\n",
        "        raw_frame.set(cv2.CAP_PROP_POS_FRAMES, int(raw_frame.get(cv2.CAP_PROP_FRAME_COUNT)) - 1)\n",
        "        ret, last_frame = raw_frame.read()\n",
        "        raw_frame.release()\n",
        "\n",
        "        joints = extract_joints_with_movenet(last_frame)\n",
        "\n",
        "        # Prepare the response\n",
        "        response = {\n",
        "            \"player\": {\n",
        "                \"isCorrect\": check_correctness(predicted_label),\n",
        "                \"movement\": predicted_label,\n",
        "                \"prediction\": predicted_label,\n",
        "                \"joints\": joints\n",
        "            }\n",
        "        }\n",
        "\n",
        "        # Save the response to a JSON file\n",
        "        output_file_path = os.path.join(OUTPUT_DIR, \"player_analysis.json\")\n",
        "        with open(output_file_path, \"w\") as outfile:\n",
        "            json.dump(response, outfile, indent=2)\n",
        "\n",
        "        # Return the JSON file as a response\n",
        "        return FileResponse(path=output_file_path, media_type='application/json', filename=\"player_analysis.json\")\n",
        "\n",
        "    except Exception as e:\n",
        "        return JSONResponse(status_code=500, content={\"error\": str(e)})"
      ]
    },
    {
      "cell_type": "code",
      "execution_count": 7,
      "metadata": {},
      "outputs": [
        {
          "name": "stdout",
          "output_type": "stream",
          "text": [
            "Authtoken saved to configuration file: C:\\Users\\marwa\\AppData\\Local/ngrok/ngrok.yml\n"
          ]
        }
      ],
      "source": [
        "!ngrok config add-authtoken 2w632UmskfhkiCHNqk8koimwg08_89pfMfZsEGcJj2q56zHkD"
      ]
    },
    {
      "cell_type": "code",
      "execution_count": null,
      "metadata": {
        "colab": {
          "base_uri": "https://localhost:8080/"
        },
        "id": "u1Y0GVJrtwjL",
        "outputId": "dc1d4be3-5615-4b52-81cd-b4d52c39091e"
      },
      "outputs": [
        {
          "name": "stdout",
          "output_type": "stream",
          "text": [
            "API is running at: NgrokTunnel: \"https://2ecd-41-33-28-81.ngrok-free.app\" -> \"http://localhost:8000\"/docs\n"
          ]
        },
        {
          "name": "stderr",
          "output_type": "stream",
          "text": [
            "INFO:     Started server process [14388]\n",
            "INFO:     Waiting for application startup.\n",
            "INFO:     Application startup complete.\n",
            "INFO:     Uvicorn running on http://0.0.0.0:8000 (Press CTRL+C to quit)\n"
          ]
        },
        {
          "name": "stdout",
          "output_type": "stream",
          "text": [
            "INFO:     41.33.28.81:0 - \"POST / HTTP/1.1\" 404 Not Found\n",
            "INFO:     41.33.28.81:0 - \"POST / HTTP/1.1\" 404 Not Found\n",
            "INFO:     41.33.28.81:0 - \"POST / HTTP/1.1\" 404 Not Found\n",
            "INFO:     41.33.28.81:0 - \"POST / HTTP/1.1\" 404 Not Found\n",
            "INFO:     41.33.28.81:0 - \"POST / HTTP/1.1\" 404 Not Found\n",
            "\u001b[1m1/1\u001b[0m \u001b[32m━━━━━━━━━━━━━━━━━━━━\u001b[0m\u001b[37m\u001b[0m \u001b[1m1s\u001b[0m 608ms/step\n",
            "INFO:     41.33.28.81:0 - \"POST /analyze_video/ HTTP/1.1\" 200 OK\n",
            "\u001b[1m1/1\u001b[0m \u001b[32m━━━━━━━━━━━━━━━━━━━━\u001b[0m\u001b[37m\u001b[0m \u001b[1m0s\u001b[0m 66ms/step\n",
            "INFO:     41.33.28.81:0 - \"POST /analyze_video/ HTTP/1.1\" 200 OK\n",
            "\u001b[1m1/1\u001b[0m \u001b[32m━━━━━━━━━━━━━━━━━━━━\u001b[0m\u001b[37m\u001b[0m \u001b[1m0s\u001b[0m 55ms/step\n",
            "INFO:     41.33.28.81:0 - \"POST /analyze_video/ HTTP/1.1\" 200 OK\n"
          ]
        },
        {
          "name": "stderr",
          "output_type": "stream",
          "text": [
            "ERROR:pyngrok.process.ngrok:t=2025-04-27T13:56:42+0300 lvl=eror msg=\"heartbeat timeout, terminating session\" obj=tunnels.session obj=csess id=3454d9355eff clientid=7d71cf808f19f1d49146367203668614\n",
            "ERROR:pyngrok.process.ngrok:t=2025-04-27T13:56:42+0300 lvl=eror msg=\"session closed, starting reconnect loop\" obj=tunnels.session obj=csess id=d89278dbbc2a err=\"session closed\"\n",
            "ERROR:pyngrok.process.ngrok:t=2025-04-27T13:57:14+0300 lvl=eror msg=\"session closed, starting reconnect loop\" obj=tunnels.session obj=csess id=d89278dbbc2a err=\"read tcp 192.168.3.153:44813->3.133.228.214:443: wsarecv: An established connection was aborted by the software in your host machine.\"\n",
            "ERROR:pyngrok.process.ngrok:t=2025-04-27T13:57:14+0300 lvl=eror msg=\"failed to reconnect session\" obj=tunnels.session err=\"failed to dial ngrok server with address \\\"connect.us.ngrok-agent.com:443\\\": dial tcp: lookup connect.us.ngrok-agent.com: no such host\"\n",
            "ERROR:pyngrok.process.ngrok:t=2025-04-27T13:57:16+0300 lvl=eror msg=\"failed to reconnect session\" obj=tunnels.session err=\"authentication failed: Your account is limited to 1 simultaneous ngrok agent sessions.\\nYou can run multiple simultaneous tunnels from a single agent session by defining the tunnels in your agent configuration file and starting them with the command `ngrok start --all`.\\nRead more about the agent configuration file: https://ngrok.com/docs/secure-tunnels/ngrok-agent/reference/config\\nYou can view your current agent sessions in the dashboard:\\nhttps://dashboard.ngrok.com/agents\\r\\n\\r\\nERR_NGROK_108\\r\\n\"\n",
            "ERROR:pyngrok.process.ngrok:t=2025-04-27T13:57:18+0300 lvl=eror msg=\"failed to reconnect session\" obj=tunnels.session err=\"authentication failed: Your account is limited to 1 simultaneous ngrok agent sessions.\\nYou can run multiple simultaneous tunnels from a single agent session by defining the tunnels in your agent configuration file and starting them with the command `ngrok start --all`.\\nRead more about the agent configuration file: https://ngrok.com/docs/secure-tunnels/ngrok-agent/reference/config\\nYou can view your current agent sessions in the dashboard:\\nhttps://dashboard.ngrok.com/agents\\r\\n\\r\\nERR_NGROK_108\\r\\n\"\n",
            "ERROR:pyngrok.process.ngrok:t=2025-04-27T13:57:21+0300 lvl=eror msg=\"failed to reconnect session\" obj=tunnels.session err=\"authentication failed: Your account is limited to 1 simultaneous ngrok agent sessions.\\nYou can run multiple simultaneous tunnels from a single agent session by defining the tunnels in your agent configuration file and starting them with the command `ngrok start --all`.\\nRead more about the agent configuration file: https://ngrok.com/docs/secure-tunnels/ngrok-agent/reference/config\\nYou can view your current agent sessions in the dashboard:\\nhttps://dashboard.ngrok.com/agents\\r\\n\\r\\nERR_NGROK_108\\r\\n\"\n",
            "ERROR:pyngrok.process.ngrok:t=2025-04-27T13:57:24+0300 lvl=eror msg=\"heartbeat timeout, terminating session\" obj=tunnels.session obj=csess id=6f88ac6af70c clientid=7d71cf808f19f1d49146367203668614\n",
            "ERROR:pyngrok.process.ngrok:t=2025-04-27T13:57:25+0300 lvl=eror msg=\"failed to reconnect session\" obj=tunnels.session err=\"failed to dial ngrok server with address \\\"connect.us.ngrok-agent.com:443\\\": dial tcp: lookup connect.us.ngrok-agent.com: no such host\"\n",
            "ERROR:pyngrok.process.ngrok:t=2025-04-27T15:01:16+0300 lvl=eror msg=\"heartbeat timeout, terminating session\" obj=tunnels.session obj=csess id=1dce13361ce6 clientid=7d71cf808f19f1d49146367203668614\n",
            "ERROR:pyngrok.process.ngrok:t=2025-04-27T15:01:16+0300 lvl=eror msg=\"session closed, starting reconnect loop\" obj=tunnels.session obj=csess id=d89278dbbc2a err=\"session closed\"\n",
            "ERROR:pyngrok.process.ngrok:t=2025-04-27T15:01:16+0300 lvl=eror msg=\"failed to reconnect session\" obj=tunnels.session err=\"failed to dial ngrok server with address \\\"connect.us.ngrok-agent.com:443\\\": dial tcp: lookup connect.us.ngrok-agent.com: no such host\"\n",
            "ERROR:pyngrok.process.ngrok:t=2025-04-27T15:01:17+0300 lvl=eror msg=\"failed to reconnect session\" obj=tunnels.session err=\"failed to dial ngrok server with address \\\"connect.us.ngrok-agent.com:443\\\": dial tcp: lookup connect.us.ngrok-agent.com: no such host\"\n",
            "ERROR:pyngrok.process.ngrok:t=2025-04-27T15:01:18+0300 lvl=eror msg=\"failed to reconnect session\" obj=tunnels.session err=\"failed to dial ngrok server with address \\\"connect.us.ngrok-agent.com:443\\\": dial tcp: lookup connect.us.ngrok-agent.com: no such host\"\n",
            "ERROR:pyngrok.process.ngrok:t=2025-04-27T15:01:20+0300 lvl=eror msg=\"failed to reconnect session\" obj=tunnels.session err=\"failed to dial ngrok server with address \\\"connect.us.ngrok-agent.com:443\\\": dial tcp: lookup connect.us.ngrok-agent.com: no such host\"\n",
            "ERROR:pyngrok.process.ngrok:t=2025-04-27T15:01:24+0300 lvl=eror msg=\"failed to reconnect session\" obj=tunnels.session err=\"failed to dial ngrok server with address \\\"connect.us.ngrok-agent.com:443\\\": dial tcp: lookup connect.us.ngrok-agent.com: no such host\"\n",
            "ERROR:pyngrok.process.ngrok:t=2025-04-27T16:17:39+0300 lvl=eror msg=\"failed to reconnect session\" obj=tunnels.session err=\"failed to dial ngrok server with address \\\"connect.us.ngrok-agent.com:443\\\": dial tcp: lookup connect.us.ngrok-agent.com: no such host\"\n",
            "ERROR:pyngrok.process.ngrok:t=2025-04-27T16:17:55+0300 lvl=eror msg=\"failed to reconnect session\" obj=tunnels.session err=\"failed to dial ngrok server with address \\\"connect.us.ngrok-agent.com:443\\\": dial tcp: lookup connect.us.ngrok-agent.com: no such host\"\n",
            "ERROR:pyngrok.process.ngrok:t=2025-04-27T16:18:25+0300 lvl=eror msg=\"failed to reconnect session\" obj=tunnels.session err=\"failed to dial ngrok server with address \\\"connect.us.ngrok-agent.com:443\\\": dial tcp: lookup connect.us.ngrok-agent.com: no such host\"\n",
            "ERROR:pyngrok.process.ngrok:t=2025-04-27T16:18:55+0300 lvl=eror msg=\"failed to reconnect session\" obj=tunnels.session err=\"failed to dial ngrok server with address \\\"connect.us.ngrok-agent.com:443\\\": dial tcp: lookup connect.us.ngrok-agent.com: no such host\"\n",
            "ERROR:pyngrok.process.ngrok:t=2025-04-27T16:19:25+0300 lvl=eror msg=\"failed to reconnect session\" obj=tunnels.session err=\"failed to dial ngrok server with address \\\"connect.us.ngrok-agent.com:443\\\": dial tcp: lookup connect.us.ngrok-agent.com: no such host\"\n",
            "ERROR:pyngrok.process.ngrok:t=2025-04-27T16:19:55+0300 lvl=eror msg=\"failed to reconnect session\" obj=tunnels.session err=\"failed to dial ngrok server with address \\\"connect.us.ngrok-agent.com:443\\\": dial tcp: lookup connect.us.ngrok-agent.com: no such host\"\n",
            "ERROR:pyngrok.process.ngrok:t=2025-04-27T16:20:25+0300 lvl=eror msg=\"failed to reconnect session\" obj=tunnels.session err=\"failed to dial ngrok server with address \\\"connect.us.ngrok-agent.com:443\\\": dial tcp: lookup connect.us.ngrok-agent.com: no such host\"\n",
            "ERROR:pyngrok.process.ngrok:t=2025-04-27T16:20:55+0300 lvl=eror msg=\"failed to reconnect session\" obj=tunnels.session err=\"failed to dial ngrok server with address \\\"connect.us.ngrok-agent.com:443\\\": dial tcp: lookup connect.us.ngrok-agent.com: no such host\"\n",
            "ERROR:pyngrok.process.ngrok:t=2025-04-27T16:21:25+0300 lvl=eror msg=\"failed to reconnect session\" obj=tunnels.session err=\"failed to dial ngrok server with address \\\"connect.us.ngrok-agent.com:443\\\": dial tcp: lookup connect.us.ngrok-agent.com: no such host\"\n",
            "ERROR:pyngrok.process.ngrok:t=2025-04-27T16:21:55+0300 lvl=eror msg=\"failed to reconnect session\" obj=tunnels.session err=\"failed to dial ngrok server with address \\\"connect.us.ngrok-agent.com:443\\\": dial tcp: lookup connect.us.ngrok-agent.com: no such host\"\n",
            "ERROR:pyngrok.process.ngrok:t=2025-04-27T16:22:25+0300 lvl=eror msg=\"failed to reconnect session\" obj=tunnels.session err=\"failed to dial ngrok server with address \\\"connect.us.ngrok-agent.com:443\\\": dial tcp: lookup connect.us.ngrok-agent.com: no such host\"\n",
            "ERROR:pyngrok.process.ngrok:t=2025-04-27T16:22:55+0300 lvl=eror msg=\"failed to reconnect session\" obj=tunnels.session err=\"failed to dial ngrok server with address \\\"connect.us.ngrok-agent.com:443\\\": dial tcp: lookup connect.us.ngrok-agent.com: no such host\"\n",
            "ERROR:pyngrok.process.ngrok:t=2025-04-27T16:23:25+0300 lvl=eror msg=\"failed to reconnect session\" obj=tunnels.session err=\"failed to dial ngrok server with address \\\"connect.us.ngrok-agent.com:443\\\": dial tcp: lookup connect.us.ngrok-agent.com: no such host\"\n",
            "ERROR:pyngrok.process.ngrok:t=2025-04-27T16:23:55+0300 lvl=eror msg=\"failed to reconnect session\" obj=tunnels.session err=\"failed to dial ngrok server with address \\\"connect.us.ngrok-agent.com:443\\\": dial tcp: lookup connect.us.ngrok-agent.com: no such host\"\n",
            "ERROR:pyngrok.process.ngrok:t=2025-04-27T16:24:25+0300 lvl=eror msg=\"failed to reconnect session\" obj=tunnels.session err=\"failed to dial ngrok server with address \\\"connect.us.ngrok-agent.com:443\\\": dial tcp: lookup connect.us.ngrok-agent.com: no such host\"\n",
            "ERROR:pyngrok.process.ngrok:t=2025-04-27T16:24:55+0300 lvl=eror msg=\"failed to reconnect session\" obj=tunnels.session err=\"failed to dial ngrok server with address \\\"connect.us.ngrok-agent.com:443\\\": dial tcp: lookup connect.us.ngrok-agent.com: no such host\"\n",
            "ERROR:pyngrok.process.ngrok:t=2025-04-27T16:25:26+0300 lvl=eror msg=\"failed to reconnect session\" obj=tunnels.session err=\"failed to dial ngrok server with address \\\"connect.us.ngrok-agent.com:443\\\": dial tcp: lookup connect.us.ngrok-agent.com: no such host\"\n",
            "ERROR:pyngrok.process.ngrok:t=2025-04-27T16:25:56+0300 lvl=eror msg=\"failed to reconnect session\" obj=tunnels.session err=\"failed to dial ngrok server with address \\\"connect.us.ngrok-agent.com:443\\\": dial tcp: lookup connect.us.ngrok-agent.com: no such host\"\n",
            "ERROR:pyngrok.process.ngrok:t=2025-04-27T16:26:26+0300 lvl=eror msg=\"failed to reconnect session\" obj=tunnels.session err=\"failed to dial ngrok server with address \\\"connect.us.ngrok-agent.com:443\\\": dial tcp: lookup connect.us.ngrok-agent.com: no such host\"\n",
            "ERROR:pyngrok.process.ngrok:t=2025-04-27T16:26:56+0300 lvl=eror msg=\"failed to reconnect session\" obj=tunnels.session err=\"failed to dial ngrok server with address \\\"connect.us.ngrok-agent.com:443\\\": dial tcp: lookup connect.us.ngrok-agent.com: no such host\"\n",
            "ERROR:pyngrok.process.ngrok:t=2025-04-27T16:27:26+0300 lvl=eror msg=\"failed to reconnect session\" obj=tunnels.session err=\"failed to dial ngrok server with address \\\"connect.us.ngrok-agent.com:443\\\": dial tcp: lookup connect.us.ngrok-agent.com: no such host\"\n",
            "ERROR:pyngrok.process.ngrok:t=2025-04-27T16:27:56+0300 lvl=eror msg=\"failed to reconnect session\" obj=tunnels.session err=\"failed to dial ngrok server with address \\\"connect.us.ngrok-agent.com:443\\\": dial tcp: lookup connect.us.ngrok-agent.com: no such host\"\n",
            "ERROR:pyngrok.process.ngrok:t=2025-04-27T16:28:26+0300 lvl=eror msg=\"failed to reconnect session\" obj=tunnels.session err=\"failed to dial ngrok server with address \\\"connect.us.ngrok-agent.com:443\\\": dial tcp: lookup connect.us.ngrok-agent.com: no such host\"\n",
            "ERROR:pyngrok.process.ngrok:t=2025-04-27T16:28:56+0300 lvl=eror msg=\"failed to reconnect session\" obj=tunnels.session err=\"failed to dial ngrok server with address \\\"connect.us.ngrok-agent.com:443\\\": dial tcp: lookup connect.us.ngrok-agent.com: no such host\"\n",
            "ERROR:pyngrok.process.ngrok:t=2025-04-27T16:29:26+0300 lvl=eror msg=\"failed to reconnect session\" obj=tunnels.session err=\"failed to dial ngrok server with address \\\"connect.us.ngrok-agent.com:443\\\": dial tcp: lookup connect.us.ngrok-agent.com: no such host\"\n",
            "ERROR:pyngrok.process.ngrok:t=2025-04-27T16:29:56+0300 lvl=eror msg=\"failed to reconnect session\" obj=tunnels.session err=\"failed to dial ngrok server with address \\\"connect.us.ngrok-agent.com:443\\\": dial tcp: lookup connect.us.ngrok-agent.com: no such host\"\n",
            "ERROR:pyngrok.process.ngrok:t=2025-04-27T16:30:26+0300 lvl=eror msg=\"failed to reconnect session\" obj=tunnels.session err=\"failed to dial ngrok server with address \\\"connect.us.ngrok-agent.com:443\\\": dial tcp: lookup connect.us.ngrok-agent.com: no such host\"\n",
            "ERROR:pyngrok.process.ngrok:t=2025-04-27T16:30:56+0300 lvl=eror msg=\"failed to reconnect session\" obj=tunnels.session err=\"failed to dial ngrok server with address \\\"connect.us.ngrok-agent.com:443\\\": dial tcp: lookup connect.us.ngrok-agent.com: no such host\"\n",
            "ERROR:pyngrok.process.ngrok:t=2025-04-27T16:31:26+0300 lvl=eror msg=\"failed to reconnect session\" obj=tunnels.session err=\"failed to dial ngrok server with address \\\"connect.us.ngrok-agent.com:443\\\": dial tcp: lookup connect.us.ngrok-agent.com: no such host\"\n",
            "ERROR:pyngrok.process.ngrok:t=2025-04-27T16:31:56+0300 lvl=eror msg=\"failed to reconnect session\" obj=tunnels.session err=\"failed to dial ngrok server with address \\\"connect.us.ngrok-agent.com:443\\\": dial tcp: lookup connect.us.ngrok-agent.com: no such host\"\n",
            "ERROR:pyngrok.process.ngrok:t=2025-04-27T16:32:26+0300 lvl=eror msg=\"failed to reconnect session\" obj=tunnels.session err=\"failed to dial ngrok server with address \\\"connect.us.ngrok-agent.com:443\\\": dial tcp: lookup connect.us.ngrok-agent.com: no such host\"\n",
            "ERROR:pyngrok.process.ngrok:t=2025-04-27T16:32:56+0300 lvl=eror msg=\"failed to reconnect session\" obj=tunnels.session err=\"failed to dial ngrok server with address \\\"connect.us.ngrok-agent.com:443\\\": dial tcp: lookup connect.us.ngrok-agent.com: no such host\"\n",
            "ERROR:pyngrok.process.ngrok:t=2025-04-27T16:33:26+0300 lvl=eror msg=\"failed to reconnect session\" obj=tunnels.session err=\"failed to dial ngrok server with address \\\"connect.us.ngrok-agent.com:443\\\": dial tcp: lookup connect.us.ngrok-agent.com: no such host\"\n",
            "ERROR:pyngrok.process.ngrok:t=2025-04-27T16:33:56+0300 lvl=eror msg=\"failed to reconnect session\" obj=tunnels.session err=\"failed to dial ngrok server with address \\\"connect.us.ngrok-agent.com:443\\\": dial tcp: lookup connect.us.ngrok-agent.com: no such host\"\n",
            "ERROR:pyngrok.process.ngrok:t=2025-04-27T16:34:26+0300 lvl=eror msg=\"failed to reconnect session\" obj=tunnels.session err=\"failed to dial ngrok server with address \\\"connect.us.ngrok-agent.com:443\\\": dial tcp: lookup connect.us.ngrok-agent.com: no such host\"\n",
            "ERROR:pyngrok.process.ngrok:t=2025-04-27T16:34:56+0300 lvl=eror msg=\"failed to reconnect session\" obj=tunnels.session err=\"failed to dial ngrok server with address \\\"connect.us.ngrok-agent.com:443\\\": dial tcp: lookup connect.us.ngrok-agent.com: no such host\"\n",
            "ERROR:pyngrok.process.ngrok:t=2025-04-27T16:35:26+0300 lvl=eror msg=\"failed to reconnect session\" obj=tunnels.session err=\"failed to dial ngrok server with address \\\"connect.us.ngrok-agent.com:443\\\": dial tcp: lookup connect.us.ngrok-agent.com: no such host\"\n",
            "ERROR:pyngrok.process.ngrok:t=2025-04-27T16:35:56+0300 lvl=eror msg=\"failed to reconnect session\" obj=tunnels.session err=\"failed to dial ngrok server with address \\\"connect.us.ngrok-agent.com:443\\\": dial tcp: lookup connect.us.ngrok-agent.com: no such host\"\n",
            "ERROR:pyngrok.process.ngrok:t=2025-04-27T16:36:26+0300 lvl=eror msg=\"failed to reconnect session\" obj=tunnels.session err=\"failed to dial ngrok server with address \\\"connect.us.ngrok-agent.com:443\\\": dial tcp: lookup connect.us.ngrok-agent.com: no such host\"\n",
            "ERROR:pyngrok.process.ngrok:t=2025-04-27T16:36:56+0300 lvl=eror msg=\"failed to reconnect session\" obj=tunnels.session err=\"failed to dial ngrok server with address \\\"connect.us.ngrok-agent.com:443\\\": dial tcp: lookup connect.us.ngrok-agent.com: no such host\"\n",
            "ERROR:pyngrok.process.ngrok:t=2025-04-27T16:37:26+0300 lvl=eror msg=\"failed to reconnect session\" obj=tunnels.session err=\"failed to dial ngrok server with address \\\"connect.us.ngrok-agent.com:443\\\": dial tcp: lookup connect.us.ngrok-agent.com: no such host\"\n",
            "ERROR:pyngrok.process.ngrok:t=2025-04-27T16:37:56+0300 lvl=eror msg=\"failed to reconnect session\" obj=tunnels.session err=\"failed to dial ngrok server with address \\\"connect.us.ngrok-agent.com:443\\\": dial tcp: lookup connect.us.ngrok-agent.com: no such host\"\n",
            "ERROR:pyngrok.process.ngrok:t=2025-04-27T16:38:26+0300 lvl=eror msg=\"failed to reconnect session\" obj=tunnels.session err=\"failed to dial ngrok server with address \\\"connect.us.ngrok-agent.com:443\\\": dial tcp: lookup connect.us.ngrok-agent.com: no such host\"\n",
            "ERROR:pyngrok.process.ngrok:t=2025-04-27T16:38:56+0300 lvl=eror msg=\"failed to reconnect session\" obj=tunnels.session err=\"failed to dial ngrok server with address \\\"connect.us.ngrok-agent.com:443\\\": dial tcp: lookup connect.us.ngrok-agent.com: no such host\"\n",
            "ERROR:pyngrok.process.ngrok:t=2025-04-27T16:39:26+0300 lvl=eror msg=\"failed to reconnect session\" obj=tunnels.session err=\"failed to dial ngrok server with address \\\"connect.us.ngrok-agent.com:443\\\": dial tcp: lookup connect.us.ngrok-agent.com: no such host\"\n",
            "ERROR:pyngrok.process.ngrok:t=2025-04-27T16:39:56+0300 lvl=eror msg=\"failed to reconnect session\" obj=tunnels.session err=\"failed to dial ngrok server with address \\\"connect.us.ngrok-agent.com:443\\\": dial tcp: lookup connect.us.ngrok-agent.com: no such host\"\n",
            "ERROR:pyngrok.process.ngrok:t=2025-04-27T16:40:26+0300 lvl=eror msg=\"failed to reconnect session\" obj=tunnels.session err=\"failed to dial ngrok server with address \\\"connect.us.ngrok-agent.com:443\\\": dial tcp: lookup connect.us.ngrok-agent.com: no such host\"\n",
            "ERROR:pyngrok.process.ngrok:t=2025-04-27T16:40:56+0300 lvl=eror msg=\"failed to reconnect session\" obj=tunnels.session err=\"failed to dial ngrok server with address \\\"connect.us.ngrok-agent.com:443\\\": dial tcp: lookup connect.us.ngrok-agent.com: no such host\"\n",
            "ERROR:pyngrok.process.ngrok:t=2025-04-27T16:41:26+0300 lvl=eror msg=\"failed to reconnect session\" obj=tunnels.session err=\"failed to dial ngrok server with address \\\"connect.us.ngrok-agent.com:443\\\": dial tcp: lookup connect.us.ngrok-agent.com: no such host\"\n",
            "ERROR:pyngrok.process.ngrok:t=2025-04-27T16:41:56+0300 lvl=eror msg=\"failed to reconnect session\" obj=tunnels.session err=\"failed to dial ngrok server with address \\\"connect.us.ngrok-agent.com:443\\\": dial tcp: lookup connect.us.ngrok-agent.com: no such host\"\n",
            "ERROR:pyngrok.process.ngrok:t=2025-04-27T16:42:26+0300 lvl=eror msg=\"failed to reconnect session\" obj=tunnels.session err=\"failed to dial ngrok server with address \\\"connect.us.ngrok-agent.com:443\\\": dial tcp: lookup connect.us.ngrok-agent.com: no such host\"\n",
            "ERROR:pyngrok.process.ngrok:t=2025-04-27T16:42:56+0300 lvl=eror msg=\"failed to reconnect session\" obj=tunnels.session err=\"failed to dial ngrok server with address \\\"connect.us.ngrok-agent.com:443\\\": dial tcp: lookup connect.us.ngrok-agent.com: no such host\"\n",
            "ERROR:pyngrok.process.ngrok:t=2025-04-27T16:43:26+0300 lvl=eror msg=\"failed to reconnect session\" obj=tunnels.session err=\"failed to dial ngrok server with address \\\"connect.us.ngrok-agent.com:443\\\": dial tcp: lookup connect.us.ngrok-agent.com: no such host\"\n",
            "ERROR:pyngrok.process.ngrok:t=2025-04-27T16:43:56+0300 lvl=eror msg=\"failed to reconnect session\" obj=tunnels.session err=\"failed to dial ngrok server with address \\\"connect.us.ngrok-agent.com:443\\\": dial tcp: lookup connect.us.ngrok-agent.com: no such host\"\n",
            "ERROR:pyngrok.process.ngrok:t=2025-04-27T16:44:26+0300 lvl=eror msg=\"failed to reconnect session\" obj=tunnels.session err=\"failed to dial ngrok server with address \\\"connect.us.ngrok-agent.com:443\\\": dial tcp: lookup connect.us.ngrok-agent.com: no such host\"\n",
            "ERROR:pyngrok.process.ngrok:t=2025-04-27T16:44:56+0300 lvl=eror msg=\"failed to reconnect session\" obj=tunnels.session err=\"failed to dial ngrok server with address \\\"connect.us.ngrok-agent.com:443\\\": dial tcp: lookup connect.us.ngrok-agent.com: no such host\"\n",
            "ERROR:pyngrok.process.ngrok:t=2025-04-27T16:45:26+0300 lvl=eror msg=\"failed to reconnect session\" obj=tunnels.session err=\"failed to dial ngrok server with address \\\"connect.us.ngrok-agent.com:443\\\": dial tcp: lookup connect.us.ngrok-agent.com: no such host\"\n",
            "ERROR:pyngrok.process.ngrok:t=2025-04-27T16:45:56+0300 lvl=eror msg=\"failed to reconnect session\" obj=tunnels.session err=\"failed to dial ngrok server with address \\\"connect.us.ngrok-agent.com:443\\\": dial tcp: lookup connect.us.ngrok-agent.com: no such host\"\n",
            "ERROR:pyngrok.process.ngrok:t=2025-04-27T16:46:26+0300 lvl=eror msg=\"failed to reconnect session\" obj=tunnels.session err=\"failed to dial ngrok server with address \\\"connect.us.ngrok-agent.com:443\\\": dial tcp: lookup connect.us.ngrok-agent.com: no such host\"\n",
            "ERROR:pyngrok.process.ngrok:t=2025-04-27T16:46:56+0300 lvl=eror msg=\"failed to reconnect session\" obj=tunnels.session err=\"failed to dial ngrok server with address \\\"connect.us.ngrok-agent.com:443\\\": dial tcp: lookup connect.us.ngrok-agent.com: no such host\"\n",
            "ERROR:pyngrok.process.ngrok:t=2025-04-27T16:47:26+0300 lvl=eror msg=\"failed to reconnect session\" obj=tunnels.session err=\"failed to dial ngrok server with address \\\"connect.us.ngrok-agent.com:443\\\": dial tcp: lookup connect.us.ngrok-agent.com: no such host\"\n",
            "ERROR:pyngrok.process.ngrok:t=2025-04-27T16:47:56+0300 lvl=eror msg=\"failed to reconnect session\" obj=tunnels.session err=\"failed to dial ngrok server with address \\\"connect.us.ngrok-agent.com:443\\\": dial tcp: lookup connect.us.ngrok-agent.com: no such host\"\n",
            "ERROR:pyngrok.process.ngrok:t=2025-04-27T16:48:26+0300 lvl=eror msg=\"failed to reconnect session\" obj=tunnels.session err=\"failed to dial ngrok server with address \\\"connect.us.ngrok-agent.com:443\\\": dial tcp: lookup connect.us.ngrok-agent.com: no such host\"\n",
            "ERROR:pyngrok.process.ngrok:t=2025-04-27T16:48:56+0300 lvl=eror msg=\"failed to reconnect session\" obj=tunnels.session err=\"failed to dial ngrok server with address \\\"connect.us.ngrok-agent.com:443\\\": dial tcp: lookup connect.us.ngrok-agent.com: no such host\"\n",
            "ERROR:pyngrok.process.ngrok:t=2025-04-27T16:49:26+0300 lvl=eror msg=\"failed to reconnect session\" obj=tunnels.session err=\"failed to dial ngrok server with address \\\"connect.us.ngrok-agent.com:443\\\": dial tcp: lookup connect.us.ngrok-agent.com: no such host\"\n",
            "ERROR:pyngrok.process.ngrok:t=2025-04-27T16:49:56+0300 lvl=eror msg=\"failed to reconnect session\" obj=tunnels.session err=\"failed to dial ngrok server with address \\\"connect.us.ngrok-agent.com:443\\\": dial tcp: lookup connect.us.ngrok-agent.com: no such host\"\n",
            "ERROR:pyngrok.process.ngrok:t=2025-04-27T16:50:26+0300 lvl=eror msg=\"failed to reconnect session\" obj=tunnels.session err=\"failed to dial ngrok server with address \\\"connect.us.ngrok-agent.com:443\\\": dial tcp: lookup connect.us.ngrok-agent.com: no such host\"\n",
            "ERROR:pyngrok.process.ngrok:t=2025-04-27T16:50:56+0300 lvl=eror msg=\"failed to reconnect session\" obj=tunnels.session err=\"failed to dial ngrok server with address \\\"connect.us.ngrok-agent.com:443\\\": dial tcp: lookup connect.us.ngrok-agent.com: no such host\"\n",
            "ERROR:pyngrok.process.ngrok:t=2025-04-27T16:51:26+0300 lvl=eror msg=\"failed to reconnect session\" obj=tunnels.session err=\"failed to dial ngrok server with address \\\"connect.us.ngrok-agent.com:443\\\": dial tcp: lookup connect.us.ngrok-agent.com: no such host\"\n",
            "ERROR:pyngrok.process.ngrok:t=2025-04-27T16:51:56+0300 lvl=eror msg=\"failed to reconnect session\" obj=tunnels.session err=\"failed to dial ngrok server with address \\\"connect.us.ngrok-agent.com:443\\\": dial tcp: lookup connect.us.ngrok-agent.com: no such host\"\n",
            "ERROR:pyngrok.process.ngrok:t=2025-04-27T16:52:26+0300 lvl=eror msg=\"failed to reconnect session\" obj=tunnels.session err=\"failed to dial ngrok server with address \\\"connect.us.ngrok-agent.com:443\\\": dial tcp: lookup connect.us.ngrok-agent.com: no such host\"\n",
            "ERROR:pyngrok.process.ngrok:t=2025-04-27T16:52:56+0300 lvl=eror msg=\"failed to reconnect session\" obj=tunnels.session err=\"failed to dial ngrok server with address \\\"connect.us.ngrok-agent.com:443\\\": dial tcp: lookup connect.us.ngrok-agent.com: no such host\"\n",
            "ERROR:pyngrok.process.ngrok:t=2025-04-27T16:53:26+0300 lvl=eror msg=\"failed to reconnect session\" obj=tunnels.session err=\"failed to dial ngrok server with address \\\"connect.us.ngrok-agent.com:443\\\": dial tcp: lookup connect.us.ngrok-agent.com: no such host\"\n",
            "ERROR:pyngrok.process.ngrok:t=2025-04-27T16:53:56+0300 lvl=eror msg=\"failed to reconnect session\" obj=tunnels.session err=\"failed to dial ngrok server with address \\\"connect.us.ngrok-agent.com:443\\\": dial tcp: lookup connect.us.ngrok-agent.com: no such host\"\n",
            "ERROR:pyngrok.process.ngrok:t=2025-04-27T16:54:26+0300 lvl=eror msg=\"failed to reconnect session\" obj=tunnels.session err=\"failed to dial ngrok server with address \\\"connect.us.ngrok-agent.com:443\\\": dial tcp: lookup connect.us.ngrok-agent.com: no such host\"\n",
            "ERROR:pyngrok.process.ngrok:t=2025-04-27T16:54:56+0300 lvl=eror msg=\"failed to reconnect session\" obj=tunnels.session err=\"failed to dial ngrok server with address \\\"connect.us.ngrok-agent.com:443\\\": dial tcp: lookup connect.us.ngrok-agent.com: no such host\"\n",
            "ERROR:pyngrok.process.ngrok:t=2025-04-27T16:55:26+0300 lvl=eror msg=\"failed to reconnect session\" obj=tunnels.session err=\"failed to dial ngrok server with address \\\"connect.us.ngrok-agent.com:443\\\": dial tcp: lookup connect.us.ngrok-agent.com: no such host\"\n",
            "ERROR:pyngrok.process.ngrok:t=2025-04-27T16:55:56+0300 lvl=eror msg=\"failed to reconnect session\" obj=tunnels.session err=\"failed to dial ngrok server with address \\\"connect.us.ngrok-agent.com:443\\\": dial tcp: lookup connect.us.ngrok-agent.com: no such host\"\n",
            "ERROR:pyngrok.process.ngrok:t=2025-04-27T16:56:26+0300 lvl=eror msg=\"failed to reconnect session\" obj=tunnels.session err=\"failed to dial ngrok server with address \\\"connect.us.ngrok-agent.com:443\\\": dial tcp: lookup connect.us.ngrok-agent.com: no such host\"\n",
            "ERROR:pyngrok.process.ngrok:t=2025-04-27T16:56:56+0300 lvl=eror msg=\"failed to reconnect session\" obj=tunnels.session err=\"failed to dial ngrok server with address \\\"connect.us.ngrok-agent.com:443\\\": dial tcp: lookup connect.us.ngrok-agent.com: no such host\"\n",
            "ERROR:pyngrok.process.ngrok:t=2025-04-27T16:57:26+0300 lvl=eror msg=\"failed to reconnect session\" obj=tunnels.session err=\"failed to dial ngrok server with address \\\"connect.us.ngrok-agent.com:443\\\": dial tcp: lookup connect.us.ngrok-agent.com: no such host\"\n",
            "ERROR:pyngrok.process.ngrok:t=2025-04-27T16:57:56+0300 lvl=eror msg=\"failed to reconnect session\" obj=tunnels.session err=\"failed to dial ngrok server with address \\\"connect.us.ngrok-agent.com:443\\\": dial tcp: lookup connect.us.ngrok-agent.com: no such host\"\n",
            "ERROR:pyngrok.process.ngrok:t=2025-04-27T16:58:36+0300 lvl=eror msg=\"failed to reconnect session\" obj=tunnels.session err=\"failed to dial ngrok server with address \\\"connect.us.ngrok-agent.com:443\\\": dial tcp: lookup connect.us.ngrok-agent.com: i/o timeout\"\n",
            "ERROR:pyngrok.process.ngrok:t=2025-04-27T16:59:06+0300 lvl=eror msg=\"failed to reconnect session\" obj=tunnels.session err=\"failed to dial ngrok server with address \\\"connect.us.ngrok-agent.com:443\\\": dial tcp: lookup connect.us.ngrok-agent.com: no such host\"\n",
            "ERROR:pyngrok.process.ngrok:t=2025-04-27T16:59:36+0300 lvl=eror msg=\"failed to reconnect session\" obj=tunnels.session err=\"failed to dial ngrok server with address \\\"connect.us.ngrok-agent.com:443\\\": dial tcp: lookup connect.us.ngrok-agent.com: no such host\"\n",
            "ERROR:pyngrok.process.ngrok:t=2025-04-27T17:19:04+0300 lvl=eror msg=\"heartbeat timeout, terminating session\" obj=tunnels.session obj=csess id=42c742128f90 clientid=7d71cf808f19f1d49146367203668614\n",
            "ERROR:pyngrok.process.ngrok:t=2025-04-27T17:19:04+0300 lvl=eror msg=\"session closed, starting reconnect loop\" obj=tunnels.session obj=csess id=d89278dbbc2a err=\"session closed\"\n",
            "ERROR:pyngrok.process.ngrok:t=2025-04-27T17:19:04+0300 lvl=eror msg=\"failed to reconnect session\" obj=tunnels.session err=\"failed to dial ngrok server with address \\\"connect.us.ngrok-agent.com:443\\\": dial tcp: lookup connect.us.ngrok-agent.com: no such host\"\n",
            "ERROR:pyngrok.process.ngrok:t=2025-04-27T17:19:04+0300 lvl=eror msg=\"failed to reconnect session\" obj=tunnels.session err=\"failed to dial ngrok server with address \\\"connect.us.ngrok-agent.com:443\\\": dial tcp: lookup connect.us.ngrok-agent.com: no such host\"\n",
            "ERROR:pyngrok.process.ngrok:t=2025-04-27T17:19:05+0300 lvl=eror msg=\"failed to reconnect session\" obj=tunnels.session err=\"failed to dial ngrok server with address \\\"connect.us.ngrok-agent.com:443\\\": dial tcp: lookup connect.us.ngrok-agent.com: no such host\"\n",
            "ERROR:pyngrok.process.ngrok:t=2025-04-27T17:19:07+0300 lvl=eror msg=\"failed to reconnect session\" obj=tunnels.session err=\"failed to dial ngrok server with address \\\"connect.us.ngrok-agent.com:443\\\": dial tcp: lookup connect.us.ngrok-agent.com: no such host\"\n",
            "ERROR:pyngrok.process.ngrok:t=2025-04-27T17:19:11+0300 lvl=eror msg=\"failed to reconnect session\" obj=tunnels.session err=\"failed to dial ngrok server with address \\\"connect.us.ngrok-agent.com:443\\\": dial tcp: lookup connect.us.ngrok-agent.com: no such host\"\n",
            "ERROR:pyngrok.process.ngrok:t=2025-04-27T17:19:29+0300 lvl=eror msg=\"failed to reconnect session\" obj=tunnels.session err=\"failed to dial ngrok server with address \\\"connect.us.ngrok-agent.com:443\\\": dial tcp: lookup connect.us.ngrok-agent.com: i/o timeout\"\n",
            "ERROR:pyngrok.process.ngrok:t=2025-04-27T17:19:45+0300 lvl=eror msg=\"failed to reconnect session\" obj=tunnels.session err=\"failed to dial ngrok server with address \\\"connect.us.ngrok-agent.com:443\\\": dial tcp: lookup connect.us.ngrok-agent.com: no such host\"\n",
            "ERROR:pyngrok.process.ngrok:t=2025-04-27T17:20:15+0300 lvl=eror msg=\"failed to reconnect session\" obj=tunnels.session err=\"failed to dial ngrok server with address \\\"connect.us.ngrok-agent.com:443\\\": dial tcp: lookup connect.us.ngrok-agent.com: no such host\"\n",
            "ERROR:pyngrok.process.ngrok:t=2025-04-27T17:20:45+0300 lvl=eror msg=\"failed to reconnect session\" obj=tunnels.session err=\"failed to dial ngrok server with address \\\"connect.us.ngrok-agent.com:443\\\": dial tcp: lookup connect.us.ngrok-agent.com: no such host\"\n",
            "ERROR:pyngrok.process.ngrok:t=2025-04-27T17:21:15+0300 lvl=eror msg=\"failed to reconnect session\" obj=tunnels.session err=\"failed to dial ngrok server with address \\\"connect.us.ngrok-agent.com:443\\\": dial tcp: lookup connect.us.ngrok-agent.com: no such host\"\n",
            "ERROR:pyngrok.process.ngrok:t=2025-04-27T17:21:45+0300 lvl=eror msg=\"failed to reconnect session\" obj=tunnels.session err=\"failed to dial ngrok server with address \\\"connect.us.ngrok-agent.com:443\\\": dial tcp: lookup connect.us.ngrok-agent.com: no such host\"\n",
            "ERROR:pyngrok.process.ngrok:t=2025-04-27T17:22:15+0300 lvl=eror msg=\"failed to reconnect session\" obj=tunnels.session err=\"failed to dial ngrok server with address \\\"connect.us.ngrok-agent.com:443\\\": dial tcp: lookup connect.us.ngrok-agent.com: no such host\"\n",
            "ERROR:pyngrok.process.ngrok:t=2025-04-27T17:22:45+0300 lvl=eror msg=\"failed to reconnect session\" obj=tunnels.session err=\"failed to dial ngrok server with address \\\"connect.us.ngrok-agent.com:443\\\": dial tcp: lookup connect.us.ngrok-agent.com: no such host\"\n",
            "ERROR:pyngrok.process.ngrok:t=2025-04-27T17:23:15+0300 lvl=eror msg=\"failed to reconnect session\" obj=tunnels.session err=\"failed to dial ngrok server with address \\\"connect.us.ngrok-agent.com:443\\\": dial tcp: lookup connect.us.ngrok-agent.com: no such host\"\n",
            "ERROR:pyngrok.process.ngrok:t=2025-04-27T17:23:45+0300 lvl=eror msg=\"failed to reconnect session\" obj=tunnels.session err=\"failed to dial ngrok server with address \\\"connect.us.ngrok-agent.com:443\\\": dial tcp: lookup connect.us.ngrok-agent.com: no such host\"\n",
            "ERROR:pyngrok.process.ngrok:t=2025-04-27T17:24:15+0300 lvl=eror msg=\"failed to reconnect session\" obj=tunnels.session err=\"failed to dial ngrok server with address \\\"connect.us.ngrok-agent.com:443\\\": dial tcp: lookup connect.us.ngrok-agent.com: no such host\"\n",
            "ERROR:pyngrok.process.ngrok:t=2025-04-27T17:24:45+0300 lvl=eror msg=\"failed to reconnect session\" obj=tunnels.session err=\"failed to dial ngrok server with address \\\"connect.us.ngrok-agent.com:443\\\": dial tcp: lookup connect.us.ngrok-agent.com: no such host\"\n",
            "ERROR:pyngrok.process.ngrok:t=2025-04-27T17:27:41+0300 lvl=eror msg=\"heartbeat timeout, terminating session\" obj=tunnels.session obj=csess id=8a872bae308a clientid=7d71cf808f19f1d49146367203668614\n",
            "ERROR:pyngrok.process.ngrok:t=2025-04-27T17:27:41+0300 lvl=eror msg=\"session closed, starting reconnect loop\" obj=tunnels.session obj=csess id=d89278dbbc2a err=\"session closed\"\n",
            "ERROR:pyngrok.process.ngrok:t=2025-04-27T17:27:41+0300 lvl=eror msg=\"failed to reconnect session\" obj=tunnels.session err=\"failed to dial ngrok server with address \\\"connect.us.ngrok-agent.com:443\\\": dial tcp: lookup connect.us.ngrok-agent.com: no such host\"\n",
            "ERROR:pyngrok.process.ngrok:t=2025-04-27T17:27:42+0300 lvl=eror msg=\"failed to reconnect session\" obj=tunnels.session err=\"failed to dial ngrok server with address \\\"connect.us.ngrok-agent.com:443\\\": dial tcp: lookup connect.us.ngrok-agent.com: no such host\"\n",
            "ERROR:pyngrok.process.ngrok:t=2025-04-27T17:27:43+0300 lvl=eror msg=\"failed to reconnect session\" obj=tunnels.session err=\"failed to dial ngrok server with address \\\"connect.us.ngrok-agent.com:443\\\": dial tcp: lookup connect.us.ngrok-agent.com: no such host\"\n",
            "ERROR:pyngrok.process.ngrok:t=2025-04-27T17:27:45+0300 lvl=eror msg=\"failed to reconnect session\" obj=tunnels.session err=\"failed to dial ngrok server with address \\\"connect.us.ngrok-agent.com:443\\\": dial tcp: lookup connect.us.ngrok-agent.com: no such host\"\n",
            "ERROR:pyngrok.process.ngrok:t=2025-04-27T17:27:49+0300 lvl=eror msg=\"failed to reconnect session\" obj=tunnels.session err=\"failed to dial ngrok server with address \\\"connect.us.ngrok-agent.com:443\\\": dial tcp: lookup connect.us.ngrok-agent.com: no such host\"\n",
            "ERROR:pyngrok.process.ngrok:t=2025-04-27T17:27:57+0300 lvl=eror msg=\"failed to reconnect session\" obj=tunnels.session err=\"failed to dial ngrok server with address \\\"connect.us.ngrok-agent.com:443\\\": dial tcp: lookup connect.us.ngrok-agent.com: no such host\"\n",
            "ERROR:pyngrok.process.ngrok:t=2025-04-27T17:28:13+0300 lvl=eror msg=\"failed to reconnect session\" obj=tunnels.session err=\"failed to dial ngrok server with address \\\"connect.us.ngrok-agent.com:443\\\": dial tcp: lookup connect.us.ngrok-agent.com: no such host\"\n",
            "ERROR:pyngrok.process.ngrok:t=2025-04-27T17:28:43+0300 lvl=eror msg=\"failed to reconnect session\" obj=tunnels.session err=\"failed to dial ngrok server with address \\\"connect.us.ngrok-agent.com:443\\\": dial tcp: lookup connect.us.ngrok-agent.com: no such host\"\n",
            "ERROR:pyngrok.process.ngrok:t=2025-04-27T17:29:13+0300 lvl=eror msg=\"failed to reconnect session\" obj=tunnels.session err=\"failed to dial ngrok server with address \\\"connect.us.ngrok-agent.com:443\\\": dial tcp: lookup connect.us.ngrok-agent.com: no such host\"\n",
            "ERROR:pyngrok.process.ngrok:t=2025-04-27T17:33:19+0300 lvl=eror msg=\"heartbeat timeout, terminating session\" obj=tunnels.session obj=csess id=0872b53b6838 clientid=7d71cf808f19f1d49146367203668614\n",
            "ERROR:pyngrok.process.ngrok:t=2025-04-27T17:33:19+0300 lvl=eror msg=\"session closed, starting reconnect loop\" obj=tunnels.session obj=csess id=d89278dbbc2a err=\"session closed\"\n",
            "ERROR:pyngrok.process.ngrok:t=2025-04-27T17:33:19+0300 lvl=eror msg=\"failed to reconnect session\" obj=tunnels.session err=\"failed to dial ngrok server with address \\\"connect.us.ngrok-agent.com:443\\\": dial tcp: lookup connect.us.ngrok-agent.com: no such host\"\n",
            "ERROR:pyngrok.process.ngrok:t=2025-04-27T17:33:19+0300 lvl=eror msg=\"failed to reconnect session\" obj=tunnels.session err=\"failed to dial ngrok server with address \\\"connect.us.ngrok-agent.com:443\\\": dial tcp: lookup connect.us.ngrok-agent.com: no such host\"\n",
            "ERROR:pyngrok.process.ngrok:t=2025-04-27T17:33:20+0300 lvl=eror msg=\"failed to reconnect session\" obj=tunnels.session err=\"failed to dial ngrok server with address \\\"connect.us.ngrok-agent.com:443\\\": dial tcp: lookup connect.us.ngrok-agent.com: no such host\"\n",
            "ERROR:pyngrok.process.ngrok:t=2025-04-27T17:33:22+0300 lvl=eror msg=\"failed to reconnect session\" obj=tunnels.session err=\"failed to dial ngrok server with address \\\"connect.us.ngrok-agent.com:443\\\": dial tcp: lookup connect.us.ngrok-agent.com: no such host\"\n",
            "ERROR:pyngrok.process.ngrok:t=2025-04-27T17:34:22+0300 lvl=eror msg=\"heartbeat timeout, terminating session\" obj=tunnels.session obj=csess id=9105c9fcc064 clientid=7d71cf808f19f1d49146367203668614\n",
            "ERROR:pyngrok.process.ngrok:t=2025-04-27T17:34:22+0300 lvl=eror msg=\"session closed, starting reconnect loop\" obj=tunnels.session obj=csess id=d89278dbbc2a err=\"session closed\"\n",
            "ERROR:pyngrok.process.ngrok:t=2025-04-27T17:36:08+0300 lvl=eror msg=\"heartbeat timeout, terminating session\" obj=tunnels.session obj=csess id=63b800dbbb5e clientid=7d71cf808f19f1d49146367203668614\n",
            "ERROR:pyngrok.process.ngrok:t=2025-04-27T17:36:08+0300 lvl=eror msg=\"session closed, starting reconnect loop\" obj=tunnels.session obj=csess id=d89278dbbc2a err=\"session closed\"\n",
            "ERROR:pyngrok.process.ngrok:t=2025-04-27T17:36:08+0300 lvl=eror msg=\"failed to reconnect session\" obj=tunnels.session err=\"failed to dial ngrok server with address \\\"connect.us.ngrok-agent.com:443\\\": dial tcp: lookup connect.us.ngrok-agent.com: no such host\"\n",
            "ERROR:pyngrok.process.ngrok:t=2025-04-27T17:36:08+0300 lvl=eror msg=\"failed to reconnect session\" obj=tunnels.session err=\"failed to dial ngrok server with address \\\"connect.us.ngrok-agent.com:443\\\": dial tcp: lookup connect.us.ngrok-agent.com: no such host\"\n",
            "ERROR:pyngrok.process.ngrok:t=2025-04-27T17:36:09+0300 lvl=eror msg=\"failed to reconnect session\" obj=tunnels.session err=\"failed to dial ngrok server with address \\\"connect.us.ngrok-agent.com:443\\\": dial tcp: lookup connect.us.ngrok-agent.com: no such host\"\n",
            "ERROR:pyngrok.process.ngrok:t=2025-04-27T17:36:11+0300 lvl=eror msg=\"failed to reconnect session\" obj=tunnels.session err=\"failed to dial ngrok server with address \\\"connect.us.ngrok-agent.com:443\\\": dial tcp: lookup connect.us.ngrok-agent.com: no such host\"\n",
            "ERROR:pyngrok.process.ngrok:t=2025-04-27T17:36:51+0300 lvl=eror msg=\"heartbeat timeout, terminating session\" obj=tunnels.session obj=csess id=2ef6bf48fa42 clientid=7d71cf808f19f1d49146367203668614\n",
            "ERROR:pyngrok.process.ngrok:t=2025-04-27T17:36:51+0300 lvl=eror msg=\"session closed, starting reconnect loop\" obj=tunnels.session obj=csess id=d89278dbbc2a err=\"session closed\"\n",
            "ERROR:pyngrok.process.ngrok:t=2025-04-27T17:36:51+0300 lvl=eror msg=\"failed to reconnect session\" obj=tunnels.session err=\"failed to dial ngrok server with address \\\"connect.us.ngrok-agent.com:443\\\": dial tcp: lookup connect.us.ngrok-agent.com: no such host\"\n",
            "ERROR:pyngrok.process.ngrok:t=2025-04-27T17:37:27+0300 lvl=eror msg=\"heartbeat timeout, terminating session\" obj=tunnels.session obj=csess id=ad1c5fe321a1 clientid=7d71cf808f19f1d49146367203668614\n",
            "ERROR:pyngrok.process.ngrok:t=2025-04-27T17:37:27+0300 lvl=eror msg=\"session closed, starting reconnect loop\" obj=tunnels.session obj=csess id=d89278dbbc2a err=\"session closed\"\n",
            "ERROR:pyngrok.process.ngrok:t=2025-04-27T17:37:27+0300 lvl=eror msg=\"failed to reconnect session\" obj=tunnels.session err=\"failed to dial ngrok server with address \\\"connect.us.ngrok-agent.com:443\\\": dial tcp: lookup connect.us.ngrok-agent.com: no such host\"\n",
            "ERROR:pyngrok.process.ngrok:t=2025-04-27T17:37:28+0300 lvl=eror msg=\"failed to reconnect session\" obj=tunnels.session err=\"failed to dial ngrok server with address \\\"connect.us.ngrok-agent.com:443\\\": dial tcp: lookup connect.us.ngrok-agent.com: no such host\"\n",
            "ERROR:pyngrok.process.ngrok:t=2025-04-27T17:42:14+0300 lvl=eror msg=\"heartbeat timeout, terminating session\" obj=tunnels.session obj=csess id=26ec26fc8468 clientid=7d71cf808f19f1d49146367203668614\n",
            "ERROR:pyngrok.process.ngrok:t=2025-04-27T17:42:14+0300 lvl=eror msg=\"session closed, starting reconnect loop\" obj=tunnels.session obj=csess id=d89278dbbc2a err=\"session closed\"\n"
          ]
        }
      ],
      "source": [
        "nest_asyncio.apply()\n",
        "\n",
        "public_url = ngrok.connect(8000)\n",
        "print(f\"API is running at: {public_url}/docs\")\n",
        "\n",
        "uvicorn.run(app, host=\"0.0.0.0\", port=8000)"
      ]
    }
  ],
  "metadata": {
    "colab": {
      "provenance": []
    },
    "kernelspec": {
      "display_name": "base",
      "language": "python",
      "name": "python3"
    },
    "language_info": {
      "codemirror_mode": {
        "name": "ipython",
        "version": 3
      },
      "file_extension": ".py",
      "mimetype": "text/x-python",
      "name": "python",
      "nbconvert_exporter": "python",
      "pygments_lexer": "ipython3",
      "version": "3.9.12"
    }
  },
  "nbformat": 4,
  "nbformat_minor": 0
}
